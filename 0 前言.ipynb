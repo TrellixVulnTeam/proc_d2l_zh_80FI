{
 "cells": [
  {
   "cell_type": "markdown",
   "metadata": {},
   "source": [
    "# 目的\n",
    "\n",
    "\n",
    "- 提供足够的技术深度，从而帮助读者成为深度学习应用科学家：既理解数学原理，又能够实现并不断改进方法；\n",
    "\n",
    "- 该教程选择MXNet作为深度学习框架。包含可运行的代码，为读者展示如何在实际中解决问题，这样不仅直接将数学公式对应成实际代码，而且可以修改代码、观察结果并及时获取经验；。\n"
   ]
  },
  {
   "cell_type": "markdown",
   "metadata": {},
   "source": [
    "<font size=4> <b>运行过程可能遇到的问题: </b></font>\n",
    "\n",
    "- 涉及GPU的代码，因资源受限，暂时无法运行，可跳过。\n",
    "\n",
    "- 部分下载公开数据的代码，可能因数据太大或外网网速，运行较慢，请耐心等待。\n",
    "\n",
    "- 部分训练神经网络的代码，可能因为数据太大或资源受限，运行较慢，请耐心等待。"
   ]
  },
  {
   "cell_type": "markdown",
   "metadata": {},
   "source": [
    "# 内容和结构\n",
    "<b>该教程内容大体可以分为3个部分：</b>\n",
    "\n",
    "<center><img src='img/book-org.svg' /> </center>\n",
    "\n",
    "第一部分（第1章至第3章）涵盖预备工作和基础知识。第1章介绍深度学习的背景。第2章提供动手学深度学习所需要的预备知识，例如，如何获取并运行本书中的代码。第3章包括深度学习最基础的概念和技术，如多层感知机和模型正则化。如果读者时间有限，并且只想了解深度学习最基础的概念和技术，那么只需阅读第一部分。\n",
    "\n",
    "第二部分（第4章至第6章）关注现代深度学习技术。第4章描述深度学习计算的各个重要组成部分，并为实现后续更复杂的模型打下基础。第5章解释近年来令深度学习在计算机视觉领域大获成功的卷积神经网络。第6章阐述近年来常用于处理序列数据的循环神经网络。阅读第二部分有助于掌握现代深度学习技术。\n",
    "\n",
    "第三部分（第7章至第10章）讨论计算性能和应用。第7章评价各种用来训练深度学习模型的优化算法。第8章检验影响深度学习计算性能的几个重要因素。第9章和第10章分别列举深度学习在计算机视觉和自然语言处理中的重要应用。这部分内容读者可根据兴趣选择阅读。\n",
    "\n",
    "图中由甲章指向乙章的箭头表明甲章的知识有助于理解乙章的内容。如果读者想短时间了解深度学习最基础的概念和技术，只需阅读第1章至第3章；如果读者希望掌握现代深度学习技术，还需阅读第4章至第6章。第7章至第10章读者可以根据兴趣选择阅读。"
   ]
  },
  {
   "cell_type": "markdown",
   "metadata": {},
   "source": [
    "# 教学资源和反馈\n",
    "本书的英文版Dive into Deep Learning是加州大学伯克利分校2019年春学期“Introduction to Deep Learning”（深度学习导论）课程的教材。截至2019年春学期，本书中的内容已被全球15所知名大学用于教学。本书的学习社区、免费教学资源（课件、教学视频、更多习题等），以及用于本书学习或教学的免费计算资源（仅限学生和老师）的申请方法在本书网站 https://zh.d2l.ai 上发布。\n",
    "\n",
    "结尾处，附上陆游的一句诗作为勉励：\n",
    "\n",
    "“纸上得来终觉浅，绝知此事要躬行。”\n",
    "\n",
    "阿斯顿·张、李沐、扎卡里 C. 立顿、亚历山大 J. 斯莫拉\n",
    "\n",
    "2019年4月"
   ]
  }
 ],
 "metadata": {
  "hide_input": false,
  "kernelspec": {
   "display_name": "Python 3",
   "language": "python",
   "name": "python3"
  },
  "language_info": {
   "codemirror_mode": {
    "name": "ipython",
    "version": 3
   },
   "file_extension": ".py",
   "mimetype": "text/x-python",
   "name": "python",
   "nbconvert_exporter": "python",
   "pygments_lexer": "ipython3",
   "version": "3.7.3"
  },
  "toc": {
   "base_numbering": 1,
   "nav_menu": {},
   "number_sections": true,
   "sideBar": true,
   "skip_h1_title": false,
   "title_cell": "Table of Contents",
   "title_sidebar": "Contents",
   "toc_cell": false,
   "toc_position": {},
   "toc_section_display": true,
   "toc_window_display": false
  }
 },
 "nbformat": 4,
 "nbformat_minor": 2
}
