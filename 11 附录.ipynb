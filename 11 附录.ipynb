{
 "cells": [
  {
   "cell_type": "markdown",
   "metadata": {},
   "source": [
    "# 附录\n"
   ]
  },
  {
   "cell_type": "markdown",
   "metadata": {
    "ExecuteTime": {
     "end_time": "2019-11-25T09:25:21.628953Z",
     "start_time": "2019-11-25T09:25:21.595030Z"
    }
   },
   "source": [
    "<div class=\"toctree-wrapper compound mdl-color-text--primary\">\n",
    "<ul>\n",
    "<li class=\"toctree-l1\"><a class=\"reference internal mdl-color-text--primary\" href=\"11.01%20%E4%B8%BB%E8%A6%81%E7%AC%A6%E5%8F%B7%E4%B8%80%E8%A7%88.ipynb\"><font size = \"4\"><B>11.1. 主要符号一览</a><ul>\n",
    "<li class=\"toctree-l2\"><a class=\"reference internal mdl-color-text--primary\" > 数</a></li>\n",
    "<li class=\"toctree-l2\"><a class=\"reference internal mdl-color-text--primary\" > 集合</a></li>\n",
    "<li class=\"toctree-l2\"><a class=\"reference internal mdl-color-text--primary\" > 操作符</a></li>\n",
    "<li class=\"toctree-l2\"><a class=\"reference internal mdl-color-text--primary\" > 函数</a></li>\n",
    "<li class=\"toctree-l2\"><a class=\"reference internal mdl-color-text--primary\" > 导数和梯度</a></li>\n",
    "<li class=\"toctree-l2\"><a class=\"reference internal mdl-color-text--primary\" > 概率和统计</a></li>\n",
    "<li class=\"toctree-l2\"><a class=\"reference internal mdl-color-text--primary\" > 复杂度</a></li>\n",
    "</ul>\n",
    "</li>\n",
    "<li class=\"toctree-l1\"><a class=\"reference internal mdl-color-text--primary\" href=\"11.02%20%E6%95%B0%E5%AD%A6%E5%9F%BA%E7%A1%80.ipynb\"><font size = \"4\"><B>11.2. 数学基础</a><ul>\n",
    "<li class=\"toctree-l2\"><a class=\"reference internal mdl-color-text--primary\" > 线性代数</a></li>\n",
    "<li class=\"toctree-l2\"><a class=\"reference internal mdl-color-text--primary\" > 微分</a></li>\n",
    "<li class=\"toctree-l2\"><a class=\"reference internal mdl-color-text--primary\" > 概率</a></li>\n",
    "<li class=\"toctree-l2\"><a class=\"reference internal mdl-color-text--primary\" > 小结</a></li>\n",
    "<li class=\"toctree-l2\"><a class=\"reference internal mdl-color-text--primary\" > 练习</a></li>\n",
    "\n",
    "</ul>\n",
    "</li>\n",
    "<li class=\"toctree-l1\"><a class=\"reference internal mdl-color-text--primary\" href=\"11.03%20%E4%BD%BF%E7%94%A8Jupyter%E8%AE%B0%E4%BA%8B%E6%9C%AC.ipynb\"><font size = \"4\"><B>11.3. 使用Jupyter记事本</a><ul>\n",
    "<li class=\"toctree-l2\"><a class=\"reference internal mdl-color-text--primary\" > 在本地编辑和运行本书的代码</a></li>\n",
    "<li class=\"toctree-l2\"><a class=\"reference internal mdl-color-text--primary\" > 高级选项</a></li>\n",
    "<li class=\"toctree-l2\"><a class=\"reference internal mdl-color-text--primary\" > 小结</a></li>\n",
    "<li class=\"toctree-l2\"><a class=\"reference internal mdl-color-text--primary\" > 练习</a></li>\n",
    "\n",
    "</ul>\n",
    "</li>\n",
    "<li class=\"toctree-l1\"><a class=\"reference internal mdl-color-text--primary\" href=\"11.04%20%E4%BD%BF%E7%94%A8AWS%E8%BF%90%E8%A1%8C%E4%BB%A3%E7%A0%81.ipynb\"><font size = \"4\"><B>11.4. 使用AWS运行代码</B></font></a><ul>\n",
    "<li class=\"toctree-l2\"><a class=\"reference internal mdl-color-text--primary\" > 申请账号并登陆</a></li>\n",
    "<li class=\"toctree-l2\"><a class=\"reference internal mdl-color-text--primary\" > 创建并运行EC2实例</a></li>\n",
    "<li class=\"toctree-l2\"><a class=\"reference internal mdl-color-text--primary\" > 安装CUDA</a></li>\n",
    "<li class=\"toctree-l2\"><a class=\"reference internal mdl-color-text--primary\" > 获取本书的代码并安装GPU版的MXNet</a></li>\n",
    "<li class=\"toctree-l2\"><a class=\"reference internal mdl-color-text--primary\" > 运行Jupyter记事本</a></li>\n",
    "<li class=\"toctree-l2\"><a class=\"reference internal mdl-color-text--primary\" > 关闭不使用的实例</a></li>\n",
    "<li class=\"toctree-l2\"><a class=\"reference internal mdl-color-text--primary\" > 小结</a></li>\n",
    "<li class=\"toctree-l2\"><a class=\"reference internal mdl-color-text--primary\" > 练习</a></li>\n",
    "\n",
    "</ul>\n",
    "</li>\n",
    "<li class=\"toctree-l1\"><a class=\"reference internal mdl-color-text--primary\" href=\"11.05%20GPU%E8%B4%AD%E4%B9%B0%E6%8C%87%E5%8D%97.ipynb\"><font size = \"4\"><B>11.5. GPU购买指南</B></font></a><ul>\n",
    "<li class=\"toctree-l2\"><a class=\"reference internal mdl-color-text--primary\" > 选择GPU</a></li>\n",
    "<li class=\"toctree-l2\"><a class=\"reference internal mdl-color-text--primary\" > 整机配置</a></li>\n",
    "<li class=\"toctree-l2\"><a class=\"reference internal mdl-color-text--primary\" > 小结</a></li>\n",
    "<li class=\"toctree-l2\"><a class=\"reference internal mdl-color-text--primary\" > 练习</a></li>\n",
    "\n",
    "</ul>\n",
    "</li>\n",
    "<li class=\"toctree-l1\"><a class=\"reference internal mdl-color-text--primary\" href=\"11.06%20%E5%A6%82%E4%BD%95%E4%B8%BA%E6%9C%AC%E4%B9%A6%E8%B4%A1%E7%8C%AE.ipynb\"><font size = \"4\"><B>11.6. 如何为本书贡献</B></font></a><ul>\n",
    "<li class=\"toctree-l2\"><a class=\"reference internal mdl-color-text--primary\" > 小结</a></li>\n",
    "<li class=\"toctree-l2\"><a class=\"reference internal mdl-color-text--primary\" > 练习</a></li>\n",
    "<li class=\"toctree-l2\"><a class=\"reference internal mdl-color-text--primary\" > 参考文献</a></li>\n",
    "\n",
    "</ul>\n",
    "</li>\n",
    "<li class=\"toctree-l1\"><a class=\"reference internal mdl-color-text--primary\" href=\"11.07%20d2lzh包索引.ipynb\"><font size = \"4\"><B>11.7. d2lzh包索引</B></font></a></li>\n",
    "</ul>\n",
    "</div>"
   ]
  }
 ],
 "metadata": {
  "hide_input": false,
  "kernelspec": {
   "display_name": "Python 3",
   "language": "python",
   "name": "python3"
  },
  "language_info": {
   "codemirror_mode": {
    "name": "ipython",
    "version": 3
   },
   "file_extension": ".py",
   "mimetype": "text/x-python",
   "name": "python",
   "nbconvert_exporter": "python",
   "pygments_lexer": "ipython3",
   "version": "3.7.3"
  },
  "toc": {
   "base_numbering": 1,
   "nav_menu": {},
   "number_sections": true,
   "sideBar": true,
   "skip_h1_title": false,
   "title_cell": "Table of Contents",
   "title_sidebar": "Contents",
   "toc_cell": false,
   "toc_position": {},
   "toc_section_display": true,
   "toc_window_display": false
  }
 },
 "nbformat": 4,
 "nbformat_minor": 2
}
