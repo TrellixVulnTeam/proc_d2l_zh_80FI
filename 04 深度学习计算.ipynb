{
 "cells": [
  {
   "cell_type": "markdown",
   "metadata": {},
   "source": [
    "\n",
    "\n",
    "上一章介绍了包括多层感知机在内的简单深度学习模型的原理和实现。本章我们将简要概括深度学习计算的各个重要组成部分，如模型构造、参数的访问和初始化等，自定义层，读取、存储和使用GPU。通过本章的学习，我们将能够深入了解模型实现和计算的各个细节，并为在之后章节实现更复杂模型打下坚实的基础。"
   ]
  },
  {
   "cell_type": "markdown",
   "metadata": {},
   "source": [
    "<div class=\"toctree-wrapper compound mdl-color-text--primary\">\n",
    "<ul>\n",
    "<li class=\"toctree-l1\"><a class=\"reference internal mdl-color-text--primary\" href=\"04.1%20%E6%A8%A1%E5%9E%8B%E6%9E%84%E9%80%A0.ipynb\"><font size = \"4\"><B>4.1. 模型构造</B></font></a><ul>\n",
    "<li class=\"toctree-l2\"><a class=\"reference internal mdl-color-text--primary\" > 继承<code class=\"docutils literal notranslate\"><span class=\"pre\">Block</span></code>类来构造模型</a></li>\n",
    "<li class=\"toctree-l2\"><a class=\"reference internal mdl-color-text--primary\" > <code class=\"docutils literal notranslate\"><span class=\"pre\">Sequential</span></code>类继承自<code class=\"docutils literal notranslate\"><span class=\"pre\">Block</span></code>类</a></li>\n",
    "<li class=\"toctree-l2\"><a class=\"reference internal mdl-color-text--primary\" > 构造复杂的模型</a></li>\n",
    "<li class=\"toctree-l2\"><a class=\"reference internal mdl-color-text--primary\" > 小结</a></li>\n",
    "<li class=\"toctree-l2\"><a class=\"reference internal mdl-color-text--primary\" > 练习</a></li>\n",
    "</ul>\n",
    "</li>\n",
    "<li class=\"toctree-l1\"><a class=\"reference internal mdl-color-text--primary\" href=\"04.2%20%E6%A8%A1%E5%9E%8B%E5%8F%82%E6%95%B0%E7%9A%84%E8%AE%BF%E9%97%AE%E3%80%81%E5%88%9D%E5%A7%8B%E5%8C%96%E5%92%8C%E5%85%B1%E4%BA%AB.ipynb\"><font size = \"4\"><B>4.2. 模型参数的访问、初始化和共享</B></font></a><ul>\n",
    "<li class=\"toctree-l2\"><a class=\"reference internal mdl-color-text--primary\" > 访问模型参数</a></li>\n",
    "<li class=\"toctree-l2\"><a class=\"reference internal mdl-color-text--primary\" > 初始化模型参数</a></li>\n",
    "<li class=\"toctree-l2\"><a class=\"reference internal mdl-color-text--primary\" > 自定义初始化方法</a></li>\n",
    "<li class=\"toctree-l2\"><a class=\"reference internal mdl-color-text--primary\" > 共享模型参数</a></li>\n",
    "<li class=\"toctree-l2\"><a class=\"reference internal mdl-color-text--primary\" > 小结</a></li>\n",
    "<li class=\"toctree-l2\"><a class=\"reference internal mdl-color-text--primary\" > 练习</a></li>\n",
    "</ul>\n",
    "</li>\n",
    "<li class=\"toctree-l1\"><a class=\"reference internal mdl-color-text--primary\" href=\"04.3%20%E6%A8%A1%E5%9E%8B%E5%8F%82%E6%95%B0%E7%9A%84%E5%BB%B6%E5%90%8E%E5%88%9D%E5%A7%8B%E5%8C%96.ipynb\"><font size = \"4\"><B>4.3. 模型参数的延后初始化</B></font></a><ul>\n",
    "<li class=\"toctree-l2\"><a class=\"reference internal mdl-color-text--primary\" > 延后初始化</a></li>\n",
    "<li class=\"toctree-l2\"><a class=\"reference internal mdl-color-text--primary\" > 避免延后初始化</a></li>\n",
    "<li class=\"toctree-l2\"><a class=\"reference internal mdl-color-text--primary\" > 小结</a></li>\n",
    "<li class=\"toctree-l2\"><a class=\"reference internal mdl-color-text--primary\" > 练习</a></li>\n",
    "</ul>\n",
    "</li>\n",
    "<li class=\"toctree-l1\"><a class=\"reference internal mdl-color-text--primary\" href=\"04.4%20%E8%87%AA%E5%AE%9A%E4%B9%89%E5%B1%82.ipynb\"><font size = \"4\"><B>4.4. 自定义层</B></font></a><ul>\n",
    "<li class=\"toctree-l2\"><a class=\"reference internal mdl-color-text--primary\" > 不含模型参数的自定义层</a></li>\n",
    "<li class=\"toctree-l2\"><a class=\"reference internal mdl-color-text--primary\" > 含模型参数的自定义层</a></li>\n",
    "<li class=\"toctree-l2\"><a class=\"reference internal mdl-color-text--primary\" > 小结</a></li>\n",
    "<li class=\"toctree-l2\"><a class=\"reference internal mdl-color-text--primary\" > 练习</a></li>\n",
    "</ul>\n",
    "</li>\n",
    "<li class=\"toctree-l1\"><a class=\"reference internal mdl-color-text--primary\" href=\"04.5%20%E8%AF%BB%E5%8F%96%E5%92%8C%E5%AD%98%E5%82%A8.ipynb\"><font size = \"4\"><B>4.5. 读取和存储</B></font></a><ul>\n",
    "<li class=\"toctree-l2\"><a class=\"reference internal mdl-color-text--primary\" > 读写NDArray</a></li>\n",
    "<li class=\"toctree-l2\"><a class=\"reference internal mdl-color-text--primary\" > 读写Gluon模型的参数</a></li>\n",
    "<li class=\"toctree-l2\"><a class=\"reference internal mdl-color-text--primary\" > 小结</a></li>\n",
    "<li class=\"toctree-l2\"><a class=\"reference internal mdl-color-text--primary\" > 练习</a></li>\n",
    "<li class=\"toctree-l2\"><a class=\"reference internal mdl-color-text--primary\" > 参与讨论</a></li>\n",
    "</ul>\n",
    "</li>\n",
    "<li class=\"toctree-l1\"><a class=\"reference internal mdl-color-text--primary\" href=\"04.6%20GPU%E8%AE%A1%E7%AE%97.ipynb\"><font size = \"4\"><B>4.6. GPU计算</B></font></a><ul>\n",
    "<li class=\"toctree-l2\"><a class=\"reference internal mdl-color-text--primary\" > 计算设备</a></li>\n",
    "<li class=\"toctree-l2\"><a class=\"reference internal mdl-color-text--primary\" > <code class=\"docutils literal notranslate\"><span class=\"pre\">NDArray</span></code>的GPU计算</a></li>\n",
    "<li class=\"toctree-l2\"><a class=\"reference internal mdl-color-text--primary\" > Gluon的GPU计算</a></li>\n",
    "<li class=\"toctree-l2\"><a class=\"reference internal mdl-color-text--primary\" > 小结</a></li>\n",
    "<li class=\"toctree-l2\"><a class=\"reference internal mdl-color-text--primary\" > 练习</a></li>\n",
    "<li class=\"toctree-l2\"><a class=\"reference internal mdl-color-text--primary\" > 参考文献</a></li>\n",
    "<li class=\"toctree-l2\"><a class=\"reference internal mdl-color-text--primary\" > 参与讨论</a></li>\n",
    "</ul>\n",
    "</li>\n",
    "</ul>\n",
    "</div>"
   ]
  }
 ],
 "metadata": {
  "hide_input": false,
  "kernelspec": {
   "display_name": "Python 3",
   "language": "python",
   "name": "python3"
  },
  "language_info": {
   "codemirror_mode": {
    "name": "ipython",
    "version": 3
   },
   "file_extension": ".py",
   "mimetype": "text/x-python",
   "name": "python",
   "nbconvert_exporter": "python",
   "pygments_lexer": "ipython3",
   "version": "3.7.3"
  },
  "toc": {
   "base_numbering": 1,
   "nav_menu": {},
   "number_sections": true,
   "sideBar": true,
   "skip_h1_title": false,
   "title_cell": "Table of Contents",
   "title_sidebar": "Contents",
   "toc_cell": false,
   "toc_position": {},
   "toc_section_display": true,
   "toc_window_display": false
  }
 },
 "nbformat": 4,
 "nbformat_minor": 2
}
