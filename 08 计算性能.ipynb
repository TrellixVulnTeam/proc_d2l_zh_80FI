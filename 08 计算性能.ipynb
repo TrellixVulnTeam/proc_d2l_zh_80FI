{
 "cells": [
  {
   "cell_type": "markdown",
   "metadata": {},
   "source": [
    "\n",
    "\n",
    "在深度学习中，数据集通常很大而且模型计算往往很复杂。因此，我们十分关注计算性能。本章将重点介绍影响计算性能的重要因子：命令式编程、符号式编程、异步计算、自动并行计算和多GPU计算。通过本章的学习，你将很可能进一步提升前几章已实现的模型的计算性能，例如，在不影响模型精度的前提下减少模型的训练时间。"
   ]
  },
  {
   "cell_type": "markdown",
   "metadata": {},
   "source": [
    "<div class=\"toctree-wrapper compound mdl-color-text--primary\">\n",
    "<ul>\n",
    "<li class=\"toctree-l1\"><a class=\"reference internal mdl-color-text--primary\" href=\"08.1%20%E5%91%BD%E4%BB%A4%E5%BC%8F%E5%92%8C%E7%AC%A6%E5%8F%B7%E5%BC%8F%E6%B7%B7%E5%90%88%E7%BC%96%E7%A8%8B.ipynb\"><font size = \"4\"><B>8.1. 命令式和符号式混合编程</B></font></a><ul>\n",
    "<li class=\"toctree-l2\"><a class=\"reference internal mdl-color-text--primary\" > 混合式编程取两者之长</a></li>\n",
    "<li class=\"toctree-l2\"><a class=\"reference internal mdl-color-text--primary\" > 使用<code class=\"docutils literal notranslate\"><span class=\"pre\">HybridSequential</span></code>类构造模型</a></li>\n",
    "<li class=\"toctree-l2\"><a class=\"reference internal mdl-color-text--primary\" > 使用<code class=\"docutils literal notranslate\"><span class=\"pre\">HybridBlock</span></code>类构造模型</a></li>\n",
    "<li class=\"toctree-l2\"><a class=\"reference internal mdl-color-text--primary\" > 小结</a></li>\n",
    "<li class=\"toctree-l2\"><a class=\"reference internal mdl-color-text--primary\" > 练习</a></li>\n",
    "</ul>\n",
    "</li>\n",
    "<li class=\"toctree-l1\"><a class=\"reference internal mdl-color-text--primary\" href=\"08.2%20%E5%BC%82%E6%AD%A5%E8%AE%A1%E7%AE%97.ipynb\"><font size = \"4\"><B>8.2. 异步计算</B></font></a><ul>\n",
    "<li class=\"toctree-l2\"><a class=\"reference internal mdl-color-text--primary\" > MXNet中的异步计算</a></li>\n",
    "<li class=\"toctree-l2\"><a class=\"reference internal mdl-color-text--primary\" > 用同步函数让前端等待计算结果</a></li>\n",
    "<li class=\"toctree-l2\"><a class=\"reference internal mdl-color-text--primary\" > 使用异步计算提升计算性能</a></li>\n",
    "<li class=\"toctree-l2\"><a class=\"reference internal mdl-color-text--primary\" > 异步计算对内存的影响</a></li>\n",
    "<li class=\"toctree-l2\"><a class=\"reference internal mdl-color-text--primary\" > 小结</a></li>\n",
    "<li class=\"toctree-l2\"><a class=\"reference internal mdl-color-text--primary\" > 练习</a></li>\n",
    "</ul>\n",
    "</li>\n",
    "<li class=\"toctree-l1\"><a class=\"reference internal mdl-color-text--primary\" href=\"08.3%20%E8%87%AA%E5%8A%A8%E5%B9%B6%E8%A1%8C%E8%AE%A1%E7%AE%97.ipynb\"><font size = \"4\"><B>8.3. 自动并行计算</B></font></a><ul>\n",
    "<li class=\"toctree-l2\"><a class=\"reference internal mdl-color-text--primary\" > CPU和GPU的并行计算</a></li>\n",
    "<li class=\"toctree-l2\"><a class=\"reference internal mdl-color-text--primary\" > 计算和通信的并行计算</a></li>\n",
    "<li class=\"toctree-l2\"><a class=\"reference internal mdl-color-text--primary\" > 小结</a></li>\n",
    "<li class=\"toctree-l2\"><a class=\"reference internal mdl-color-text--primary\" > 练习</a></li>\n",
    "</ul>\n",
    "</li>\n",
    "<li class=\"toctree-l1\"><a class=\"reference internal mdl-color-text--primary\" href=\"08.4%20%E5%A4%9AGPU%E8%AE%A1%E7%AE%97.ipynb\"><font size = \"4\"><B>8.4. 多GPU计算</B></font></a><ul>\n",
    "<li class=\"toctree-l2\"><a class=\"reference internal mdl-color-text--primary\" > 数据并行</a></li>\n",
    "<li class=\"toctree-l2\"><a class=\"reference internal mdl-color-text--primary\" > 定义模型</a></li>\n",
    "<li class=\"toctree-l2\"><a class=\"reference internal mdl-color-text--primary\" > 多GPU之间同步数据</a></li>\n",
    "<li class=\"toctree-l2\"><a class=\"reference internal mdl-color-text--primary\" > 单个小批量上的多GPU训练</a></li>\n",
    "<li class=\"toctree-l2\"><a class=\"reference internal mdl-color-text--primary\" > 定义训练函数</a></li>\n",
    "<li class=\"toctree-l2\"><a class=\"reference internal mdl-color-text--primary\" > 多GPU训练实验</a></li>\n",
    "<li class=\"toctree-l2\"><a class=\"reference internal mdl-color-text--primary\" > 小结</a></li>\n",
    "<li class=\"toctree-l2\"><a class=\"reference internal mdl-color-text--primary\" > 练习</a></li>\n",
    "</ul>\n",
    "</li>\n",
    "<li class=\"toctree-l1\"><a class=\"reference internal mdl-color-text--primary\" href=\"08.5%20%E5%A4%9AGPU%E8%AE%A1%E7%AE%97%E7%9A%84%E7%AE%80%E6%B4%81%E5%AE%9E%E7%8E%B0.ipynb\"><font size = \"4\"><B>8.5. 多GPU计算的简洁实现</B></font></a><ul>\n",
    "<li class=\"toctree-l2\"><a class=\"reference internal mdl-color-text--primary\" > 多GPU上初始化模型参数</a></li>\n",
    "<li class=\"toctree-l2\"><a class=\"reference internal mdl-color-text--primary\" > 多GPU训练模型</a></li>\n",
    "<li class=\"toctree-l2\"><a class=\"reference internal mdl-color-text--primary\" > 小结</a></li>\n",
    "<li class=\"toctree-l2\"><a class=\"reference internal mdl-color-text--primary\" > 练习</a></li>\n",
    "\n",
    "</ul>\n",
    "</li>\n",
    "</ul>\n",
    "</div>"
   ]
  }
 ],
 "metadata": {
  "hide_input": false,
  "kernelspec": {
   "display_name": "Python 3",
   "language": "python",
   "name": "python3"
  },
  "language_info": {
   "codemirror_mode": {
    "name": "ipython",
    "version": 3
   },
   "file_extension": ".py",
   "mimetype": "text/x-python",
   "name": "python",
   "nbconvert_exporter": "python",
   "pygments_lexer": "ipython3",
   "version": "3.7.3"
  },
  "toc": {
   "base_numbering": 1,
   "nav_menu": {},
   "number_sections": true,
   "sideBar": true,
   "skip_h1_title": false,
   "title_cell": "Table of Contents",
   "title_sidebar": "Contents",
   "toc_cell": false,
   "toc_position": {},
   "toc_section_display": true,
   "toc_window_display": false
  }
 },
 "nbformat": 4,
 "nbformat_minor": 2
}
