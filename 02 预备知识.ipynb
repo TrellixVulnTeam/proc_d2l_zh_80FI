{
 "cells": [
  {
   "cell_type": "markdown",
   "metadata": {},
   "source": [
    "\n",
    "\n",
    "在动手学习之前，我们需要获取本书的代码，并安装运行本书的代码所需要的软件。作为动手学深度学习的基础，我们还需要了解如何对内存中的数据进行操作，以及对函数求梯度的方法。最后，我们应养成主动查阅文档来学习代码的良好习惯。"
   ]
  },
  {
   "cell_type": "markdown",
   "metadata": {},
   "source": [
    "<div class=\"toctree-wrapper compound mdl-color-text--primary\">\n",
    "<ul>\n",
    "<li class=\"toctree-l1\"><a class=\"reference internal mdl-color-text--primary\" href=\"02.1%20%E8%8E%B7%E5%8F%96%E5%92%8C%E8%BF%90%E8%A1%8C%E6%9C%AC%E4%B9%A6%E7%9A%84%E4%BB%A3%E7%A0%81.ipynb\"><font size = \"4\"><B>2.1. 获取和运行本书的代码</B></font></a><ul>\n",
    "<li class=\"toctree-l2\"><a class=\"reference internal mdl-color-text--primary\" > 获取代码并安装运行环境</a></li>\n",
    "<li class=\"toctree-l2\"><a class=\"reference internal mdl-color-text--primary\" > 更新代码和运行环境</a></li>\n",
    "<li class=\"toctree-l2\"><a class=\"reference internal mdl-color-text--primary\" > 使用GPU版的MXNet</a></li>\n",
    "<li class=\"toctree-l2\"><a class=\"reference internal mdl-color-text--primary\"> 小结</a></li>\n",
    "<li class=\"toctree-l2\"><a class=\"reference internal mdl-color-text--primary\" > 练习</a></li>\n",
    "\n",
    "</ul>\n",
    "</li>\n",
    "<li class=\"toctree-l1\"><a class=\"reference internal mdl-color-text--primary\" href=\"02.2%20%E6%95%B0%E6%8D%AE%E6%93%8D%E4%BD%9C.ipynb\"><font size = \"4\"><B>2.2. 数据操作</B></font></a><ul>\n",
    "<li class=\"toctree-l2\"><a class=\"reference internal mdl-color-text--primary\" > 创建NDArray</a></li>\n",
    "<li class=\"toctree-l2\"><a class=\"reference internal mdl-color-text--primary\" > 运算</a></li>\n",
    "<li class=\"toctree-l2\"><a class=\"reference internal mdl-color-text--primary\" > 广播机制</a></li>\n",
    "<li class=\"toctree-l2\"><a class=\"reference internal mdl-color-text--primary\" > 索引</a></li>\n",
    "<li class=\"toctree-l2\"><a class=\"reference internal mdl-color-text--primary\" > 运算的内存开销</a></li>\n",
    "<li class=\"toctree-l2\"><a class=\"reference internal mdl-color-text--primary\" > NDArray和NumPy相互变换 </a></li>\n",
    "<li class=\"toctree-l2\"><a class=\"reference internal mdl-color-text--primary\"> 小结</a></li>\n",
    "<li class=\"toctree-l2\"><a class=\"reference internal mdl-color-text--primary\"> 练习</a></li>\n",
    "\n",
    "</ul>\n",
    "</li>\n",
    "<li class=\"toctree-l1\"><a class=\"reference internal mdl-color-text--primary\" href=\"02.3%20%E8%87%AA%E5%8A%A8%E6%B1%82%E6%A2%AF%E5%BA%A6.ipynb\"><font size = \"4\"><B>2.3. 自动求梯度</font></B></a><ul>\n",
    "<li class=\"toctree-l2\"><a class=\"reference internal mdl-color-text--primary\"> 简单例子</a></li>\n",
    "<li class=\"toctree-l2\"><a class=\"reference internal mdl-color-text--primary\" > 训练模式和预测模式</a></li>\n",
    "<li class=\"toctree-l2\"><a class=\"reference internal mdl-color-text--primary\" > 对Python控制流求梯度</a></li>\n",
    "<li class=\"toctree-l2\"><a class=\"reference internal mdl-color-text--primary\" > 小结</a></li>\n",
    "<li class=\"toctree-l2\"><a class=\"reference internal mdl-color-text--primary\" > 练习</a></li>\n",
    "</ul>\n",
    "</li>\n",
    "<li class=\"toctree-l1\"><a class=\"reference internal mdl-color-text--primary\" href=\"02.4%20%E6%9F%A5%E9%98%85%E6%96%87%E6%A1%A3.ipynb\" ><font size = \"4\"><B>2.4. 查阅文档</font></B></a><ul>\n",
    "<li class=\"toctree-l2\"><a class=\"reference internal mdl-color-text--primary\" > 查找模块里的所有函数和类</a></li>\n",
    "<li class=\"toctree-l2\"><a class=\"reference internal mdl-color-text--primary\" > 查找特定函数和类的使用</a></li>\n",
    "<li class=\"toctree-l2\"><a class=\"reference internal mdl-color-text--primary\"> 在MXNet网站上查阅</a></li>\n",
    "<li class=\"toctree-l2\"><a class=\"reference internal mdl-color-text--primary\" > 小结</a></li>\n",
    "<li class=\"toctree-l2\"><a class=\"reference internal mdl-color-text--primary\" > 练习</a></li>\n",
    "\n",
    "</ul>\n",
    "</li>\n",
    "</ul>\n",
    "</div>"
   ]
  }
 ],
 "metadata": {
  "hide_input": false,
  "kernelspec": {
   "display_name": "Python 3",
   "language": "python",
   "name": "python3"
  },
  "language_info": {
   "codemirror_mode": {
    "name": "ipython",
    "version": 3
   },
   "file_extension": ".py",
   "mimetype": "text/x-python",
   "name": "python",
   "nbconvert_exporter": "python",
   "pygments_lexer": "ipython3",
   "version": "3.7.3"
  },
  "toc": {
   "base_numbering": 1,
   "nav_menu": {},
   "number_sections": true,
   "sideBar": true,
   "skip_h1_title": false,
   "title_cell": "Table of Contents",
   "title_sidebar": "Contents",
   "toc_cell": false,
   "toc_position": {},
   "toc_section_display": true,
   "toc_window_display": false
  }
 },
 "nbformat": 4,
 "nbformat_minor": 2
}
